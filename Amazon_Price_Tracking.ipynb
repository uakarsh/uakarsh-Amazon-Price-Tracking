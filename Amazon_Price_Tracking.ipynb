{
  "nbformat": 4,
  "nbformat_minor": 0,
  "metadata": {
    "colab": {
      "name": "Amazon-Price-Tracking.ipynb",
      "provenance": []
    },
    "kernelspec": {
      "name": "python3",
      "display_name": "Python 3"
    }
  },
  "cells": [
    {
      "cell_type": "code",
      "metadata": {
        "id": "_eCB648xk0WW",
        "colab_type": "code",
        "colab": {}
      },
      "source": [
        "# import required files and modules\n",
        "import requests\n",
        "from bs4 import BeautifulSoup\n",
        "import smtplib\n",
        "import time"
      ],
      "execution_count": 4,
      "outputs": []
    },
    {
      "cell_type": "code",
      "metadata": {
        "id": "3EWBmbBWlJL-",
        "colab_type": "code",
        "colab": {}
      },
      "source": [
        "# set the headers and user string\n",
        "headers = {\n",
        "\"User-Agent\": \"Mozilla/5.0 (X11; Linux x86_64) AppleWebKit/537.36 (KHTML, like Gecko) Chrome/51.0.2704.103 Safari/537.36\"\n",
        "}\n",
        "\n",
        "# basically headers and user string are used to help the network protocol about the Operating System and Browser of the web-server."
      ],
      "execution_count": 5,
      "outputs": []
    },
    {
      "cell_type": "code",
      "metadata": {
        "id": "k4HIPQLGlbfr",
        "colab_type": "code",
        "colab": {
          "base_uri": "https://localhost:8080/",
          "height": 54
        },
        "outputId": "171f5ccf-a4e6-48a8-f1e9-71ac05812ec3"
      },
      "source": [
        "product=input(\"Can you please enter the link of your item? \")"
      ],
      "execution_count": 6,
      "outputs": [
        {
          "output_type": "stream",
          "text": [
            "Can you please enter the link of your item? https://www.amazon.in/Bose-SoundLink-Wireless-Around-Ear-Headphones/dp/B0117RGG8E/ref=sr_1_11?qid=1562395272&refinements=p_89%3ABose&s=electronics&sr=1-11\n"
          ],
          "name": "stdout"
        }
      ]
    },
    {
      "cell_type": "code",
      "metadata": {
        "id": "vsVmlN4nlfKj",
        "colab_type": "code",
        "colab": {
          "base_uri": "https://localhost:8080/",
          "height": 34
        },
        "outputId": "36c12873-47d4-45ba-c68b-e5c13b783105"
      },
      "source": [
        "response = requests.get(product, headers=headers)     #The get() method sends a GET request to the specified url."
      ],
      "execution_count": 7,
      "outputs": [
        {
          "output_type": "execute_result",
          "data": {
            "text/plain": [
              "requests.models.Response"
            ]
          },
          "metadata": {
            "tags": []
          },
          "execution_count": 7
        }
      ]
    },
    {
      "cell_type": "code",
      "metadata": {
        "id": "b703tSeqlfqS",
        "colab_type": "code",
        "colab": {}
      },
      "source": [
        "# create the soup object\n",
        "soup = BeautifulSoup(response.content, 'html.parser')     # Creating a Beautiful Soup object\n",
        "# response.content returns the content of the whole website"
      ],
      "execution_count": 8,
      "outputs": []
    },
    {
      "cell_type": "code",
      "metadata": {
        "id": "k3FuFyX6lhBM",
        "colab_type": "code",
        "colab": {}
      },
      "source": [
        "budget=int(input(\"Can you please enter your budget? \"))"
      ],
      "execution_count": null,
      "outputs": []
    },
    {
      "cell_type": "code",
      "metadata": {
        "id": "TDb5nGmUlioe",
        "colab_type": "code",
        "colab": {}
      },
      "source": [
        "price = soup.find(id = \"priceblock_ourprice\").get_text().replace(',', '').replace('₹', '').replace(' ', '').strip()     # price is stored in the id name priceblock_ourprise"
      ],
      "execution_count": null,
      "outputs": []
    },
    {
      "cell_type": "code",
      "metadata": {
        "id": "5jS1ipA8li96",
        "colab_type": "code",
        "colab": {}
      },
      "source": [
        "# change the encoding to utf-8\n",
        "soup.encode('utf-8')\n",
        "# function to check if the price has dropped below 20,000\n",
        "def check_price(budget,product):\n",
        "  title = soup.find(id= \"productTitle\").get_text()                  # Get the title of the product which is stored in the id 'productTitle'\n",
        "  price = soup.find(id = \"priceblock_ourprice\").get_text().replace(',', '').replace('₹', '').replace(' ', '').strip()     # Similarily the price\n",
        "  #print(price)\n",
        "\n",
        "  #converting the string amount to float\n",
        "  converted_price = float(price[0:len(budget)])           # Basically this is for rounding upto a particular digit of number     Example for 10,000 it is 5\n",
        "  print(converted_price)\n",
        "  if(converted_price < budget):\n",
        "    send_mail(product)\n",
        "\n",
        "  #using strip to remove extra spaces in the title\n",
        "  print(title.strip())"
      ],
      "execution_count": null,
      "outputs": []
    },
    {
      "cell_type": "code",
      "metadata": {
        "id": "2RpTCq9AmBzl",
        "colab_type": "code",
        "colab": {}
      },
      "source": [
        "# function that sends an email if the prices fell down\n",
        "def send_mail(product):\n",
        "  server = smtplib.SMTP('smtp.gmail.com', 587)\n",
        "  server.ehlo()           #start the email server for identification\n",
        "  server.starttls()       # telling that we need to send an email to the client         \n",
        "\n",
        "  server.login('youremailid@gmail.com', 'password')\n",
        "\n",
        "  subject = 'Price Fell Down'\n",
        "  body = \"Check the amazon link \"+product\n",
        "\n",
        "  msg = f\"Subject: {subject}\\n\\n{body}\"\n",
        "  \n",
        "  server.sendmail(\n",
        "    'akarshupadhyyabc@gmail.com',\n",
        "    \"receiver's email address\",\n",
        "    msg\n",
        "  )\n",
        "  #print a message to check if the email has been sent\n",
        "  print('Hey Email has been sent')\n",
        "  # quit the server\n",
        "  server.quit()"
      ],
      "execution_count": null,
      "outputs": []
    },
    {
      "cell_type": "code",
      "metadata": {
        "id": "kmiIN6eymCCX",
        "colab_type": "code",
        "colab": {}
      },
      "source": [
        "#loop that allows the program to regularly check for prices\n",
        "while(True):\n",
        "  check_price(budget,product)\n",
        "  time.sleep(86400)"
      ],
      "execution_count": null,
      "outputs": []
    }
  ]
}